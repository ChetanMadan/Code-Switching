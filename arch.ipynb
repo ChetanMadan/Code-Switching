{
 "cells": [
  {
   "cell_type": "code",
   "execution_count": 0,
   "metadata": {
    "colab": {},
    "colab_type": "code",
    "id": "XsyWeq3ggn3k"
   },
   "outputs": [],
   "source": [
    "from torch import nn\n",
    "import torchvision"
   ]
  },
  {
   "cell_type": "code",
   "execution_count": 0,
   "metadata": {
    "colab": {},
    "colab_type": "code",
    "id": "xKjfXvaDhe5n"
   },
   "outputs": [],
   "source": [
    "input_size = 2409\n",
    "output_size = 10\n",
    "input_shape = []\n",
    "batch_size = 32\n",
    "in_channels = 1\n",
    "out_channels = 32"
   ]
  },
  {
   "cell_type": "code",
   "execution_count": 0,
   "metadata": {
    "colab": {},
    "colab_type": "code",
    "id": "bXqLgHp7hDYj"
   },
   "outputs": [],
   "source": [
    "class Network(nn.Module):\n",
    "    def __init__(self):\n",
    "        super().__init__()\n",
    "        self.conv1 = nn.Conv2d(1, 4, kernel_size=3)\n",
    "        self.conv2 = nn.Conv2d(4, 8, kernel_size=3)\n",
    "        self.conv3 = nn.Conv2d(8, 16, kernel_size=3)\n",
    "        self.conv4 = nn.Conv2d(16, 32, kernel_size=3)\n",
    "        self.pool = nn.MaxPool2d(2)\n",
    "        self.hidden = nn.Linear(32*12*12, 128)\n",
    "        self.drop = nn.Dropout(0.5)\n",
    "        self.out1 = nn.Linear(128, 64)\n",
    "        self.out2 = nn.Linear(64, 2)\n",
    "        self.act = nn.ReLU()\n",
    "        self.bgru = nn.GRU(input_size=32, hidden_size=64)\n",
    "\n",
    "    def forward(self, x):\n",
    "        x = self.act(self.conv(x)) # [batch_size, 4, 30, 30]\n",
    "        x = self.act(self.conv2(x)) # [batch_size, 8, 28, 28]\n",
    "        x = self.act(self.conv2(x)) # [batch_size, 16, 26, 26]\n",
    "        x = self.act(self.conv2(x)) # [batch_size, 32, 24, 24]\n",
    "        x = self.pool(x) # [batch_size, 32, 12, 12]\n",
    "        x = self.drop(x)\n",
    "        x = self.hidden(x) # [batch_size, 128]\n",
    "        x = self.out1(x) # [batch_size, 64]\n",
    "        x = self.bgru(x)\n",
    "        x = self.bgru(x)\n",
    "        x = self.out2(x) # [batch_size, 2]\n",
    "        return x\n",
    "\n",
    "model = Network()\n",
    "\n"
   ]
  },
  {
   "cell_type": "code",
   "execution_count": 0,
   "metadata": {
    "colab": {},
    "colab_type": "code",
    "id": "51vm2-HwlBGW"
   },
   "outputs": [],
   "source": []
  },
  {
   "cell_type": "code",
   "execution_count": 0,
   "metadata": {
    "colab": {},
    "colab_type": "code",
    "id": "HyHUD2KZmffK"
   },
   "outputs": [],
   "source": [
    "\n"
   ]
  },
  {
   "cell_type": "code",
   "execution_count": 0,
   "metadata": {
    "colab": {},
    "colab_type": "code",
    "id": "TJ6PmnsBqm-v"
   },
   "outputs": [],
   "source": []
  }
 ],
 "metadata": {
  "accelerator": "GPU",
  "colab": {
   "collapsed_sections": [],
   "name": "arch.ipynb",
   "provenance": []
  },
  "kernelspec": {
   "display_name": "Python 3",
   "language": "python",
   "name": "python3"
  },
  "language_info": {
   "codemirror_mode": {
    "name": "ipython",
    "version": 3
   },
   "file_extension": ".py",
   "mimetype": "text/x-python",
   "name": "python",
   "nbconvert_exporter": "python",
   "pygments_lexer": "ipython3",
   "version": "3.6.9"
  }
 },
 "nbformat": 4,
 "nbformat_minor": 1
}
