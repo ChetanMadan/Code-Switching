{
  "nbformat": 4,
  "nbformat_minor": 0,
  "metadata": {
    "colab": {
      "name": "arch.ipynb",
      "provenance": [],
      "collapsed_sections": []
    },
    "kernelspec": {
      "name": "python3",
      "display_name": "Python 3"
    },
    "accelerator": "GPU"
  },
  "cells": [
    {
      "cell_type": "code",
      "metadata": {
        "id": "XsyWeq3ggn3k",
        "colab_type": "code",
        "colab": {}
      },
      "source": [
        "from torch import nn\n",
        "import torchvision"
      ],
      "execution_count": 0,
      "outputs": []
    },
    {
      "cell_type": "code",
      "metadata": {
        "id": "xKjfXvaDhe5n",
        "colab_type": "code",
        "colab": {}
      },
      "source": [
        "input_size = 2409\n",
        "output_size = 10\n",
        "input_shape = []\n",
        "batch_size = 32\n",
        "in_channels = 1\n",
        "out_channels = 32"
      ],
      "execution_count": 0,
      "outputs": []
    },
    {
      "cell_type": "code",
      "metadata": {
        "id": "bXqLgHp7hDYj",
        "colab_type": "code",
        "colab": {}
      },
      "source": [
        "class Network(nn.Module):\n",
        "  def __init__(self):\n",
        "    super().__init__()\n",
        "    self.conv1 = nn.Conv2d(1, 4, kernel_size=3)\n",
        "    self.conv2 = nn.Conv2d(4, 8, kernel_size=3)\n",
        "    self.conv3 = nn.Conv2d(8, 16, kernel_size=3)\n",
        "    self.conv4 = nn.Conv2d(16, 32, kernel_size=3)\n",
        "    self.pool = nn.MaxPool2d(2)\n",
        "    self.hidden= nn.Linear(32*12*12, 128)\n",
        "    self.drop = nn.Dropout(0.5)\n",
        "    self.out1 = nn.Linear(128, 64)\n",
        "    self.out2 = nn.Linear(64, 2)\n",
        "    self.act = nn.ReLU()\n",
        "    self.bgru = nn.GRU(input_size=32, hidden_size=64)\n",
        "  \n",
        "  def forward(self, x):\n",
        "        x = self.act(self.conv(x)) # [batch_size, 4, 30, 30]\n",
        "        x = self.act(self.conv2(x)) # [batch_size, 8, 28, 28]\n",
        "        x = self.act(self.conv2(x)) # [batch_size, 16, 26, 26]\n",
        "        x = self.act(self.conv2(x)) # [batch_size, 32, 24, 24]\n",
        "        x = self.pool(x) # [batch_size, 32, 12, 12]\n",
        "        x = self.drop(x)\n",
        "        x = self.hidden(x) # [batch_size, 128]\n",
        "        x = self.out1(x) # [batch_size, 64]\n",
        "        x = self.bgru(x)\n",
        "        x = self.bgru(x)\n",
        "        x = self.out2(x) # [batch_size, 2]\n",
        "        return x\n",
        "\n",
        "model = Network()\n",
        "\n"
      ],
      "execution_count": 0,
      "outputs": []
    },
    {
      "cell_type": "code",
      "metadata": {
        "id": "51vm2-HwlBGW",
        "colab_type": "code",
        "colab": {}
      },
      "source": [
        ""
      ],
      "execution_count": 0,
      "outputs": []
    },
    {
      "cell_type": "code",
      "metadata": {
        "id": "HyHUD2KZmffK",
        "colab_type": "code",
        "colab": {}
      },
      "source": [
        "\n"
      ],
      "execution_count": 0,
      "outputs": []
    },
    {
      "cell_type": "code",
      "metadata": {
        "id": "TJ6PmnsBqm-v",
        "colab_type": "code",
        "colab": {}
      },
      "source": [
        ""
      ],
      "execution_count": 0,
      "outputs": []
    }
  ]
}