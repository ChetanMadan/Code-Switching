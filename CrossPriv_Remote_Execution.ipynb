{
 "cells": [
  {
   "cell_type": "markdown",
   "metadata": {
    "colab_type": "text",
    "id": "view-in-github"
   },
   "source": [
    "<a href=\"https://colab.research.google.com/github/harshitadd/CrossPriv/blob/master/CrossPriv_Remote_Execution.ipynb\" target=\"_parent\"><img src=\"https://colab.research.google.com/assets/colab-badge.svg\" alt=\"Open In Colab\"/></a>"
   ]
  },
  {
   "cell_type": "code",
   "execution_count": 3,
   "metadata": {
    "colab": {
     "base_uri": "https://localhost:8080/",
     "height": 35
    },
    "colab_type": "code",
    "id": "Aoq3s2Yzd15t",
    "outputId": "7405db74-14c5-47dd-d259-a6efa169cd13"
   },
   "outputs": [
    {
     "name": "stdout",
     "output_type": "stream",
     "text": [
      "\u001b[K     |████████████████████████████████| 35.5MB 89kB/s \n",
      "\u001b[?25h"
     ]
    }
   ],
   "source": [
    "# !pip install syft==0.2.6 --quiet \n",
    "# !pip install pydicom --quiet"
   ]
  },
  {
   "cell_type": "code",
   "execution_count": 1,
   "metadata": {
    "colab": {
     "base_uri": "https://localhost:8080/",
     "height": 35
    },
    "colab_type": "code",
    "id": "A6bD7JbBq0D6",
    "outputId": "4eb40c71-269b-49d2-ae8c-423a7a907031"
   },
   "outputs": [
    {
     "name": "stdout",
     "output_type": "stream",
     "text": [
      "Drive already mounted at /content/drive; to attempt to forcibly remount, call drive.mount(\"/content/drive\", force_remount=True).\n"
     ]
    }
   ],
   "source": [
    "##Importing Mini Batch Data \n",
    "import os \n",
    "import pydicom \n",
    "import cv2\n",
    "import matplotlib.pyplot as plt\n",
    "import csv  \n",
    "import pandas as pd\n",
    "import torch\n",
    "import torch.nn as nn\n",
    "import torch.nn.functional as F\n",
    "import torch.optim as optim\n",
    "import syft as sy\n",
    "import time\n",
    "import copy\n",
    "import numpy as np\n",
    "import pickle\n",
    "import seaborn as sns\n",
    "from sklearn.preprocessing import MinMaxScaler \n",
    "from google.colab import drive\n",
    "from torch.utils.data import TensorDataset, DataLoader\n",
    "from torch.utils.data import Dataset\n",
    "from sklearn.model_selection import train_test_split\n",
    "from syft.frameworks.torch.fl import utils\n",
    "from syft.workers.websocket_client import WebsocketClientWorker\n",
    "\n",
    "drive.mount('/content/drive')\n",
    "sns.set(style=\"darkgrid\")"
   ]
  },
  {
   "cell_type": "code",
   "execution_count": 2,
   "metadata": {
    "colab": {},
    "colab_type": "code",
    "id": "Nwuyc_DerKUv"
   },
   "outputs": [],
   "source": [
    " def makeData(): \n",
    "  dcm_path=os.listdir('/content/drive/My Drive/Fed_Covid/minibatch/')\n",
    "  dcm_data={}\n",
    "\n",
    "  alpha = 1.5 # Contrast control (1.0-3.0)\n",
    "  beta = 0 # Brightness control (0-100)\n",
    "\n",
    "  ctr=0\n",
    "  for file in dcm_path:\n",
    "    name = '/content/drive/My Drive/Fed_Covid/minibatch/' + file\n",
    "    temp = pydicom.dcmread(name)\n",
    "    image = temp.pixel_array\n",
    "    image = cv2.cvtColor(image, cv2.COLOR_BGR2RGB)\n",
    "    adjusted = cv2.resize(image,(64,64))\n",
    "    dcm_data[file]=adjusted\n",
    "    ctr+=1\n",
    "\n",
    "  labels=[]\n",
    "  with open('/content/drive/My Drive/Fed_Covid/stage_2_train_labels.csv','r') as file:\n",
    "    reader = csv.reader(file)\n",
    "    for row in reader:\n",
    "      labels.append(row)\n",
    "  scaler = MinMaxScaler()\n",
    "  pid=[]\n",
    "  dicom=[]\n",
    "  label=[]\n",
    "  cid = 0\n",
    "  for PID in labels:\n",
    "    for key in dcm_data:\n",
    "      if(key[:-4]==PID[0]):\n",
    "        l=[]\n",
    "        for val in dcm_data[key]:\n",
    "          l.append(scaler.fit_transform(val))\n",
    "        l = np.reshape(l,(3,64,64))\n",
    "        dicom.append(l)\n",
    "        label.append(int(PID[5]))\n",
    "  return dicom, label  \n",
    "\n",
    "      "
   ]
  },
  {
   "cell_type": "code",
   "execution_count": 3,
   "metadata": {
    "colab": {},
    "colab_type": "code",
    "id": "Ryg9PjOymSkj"
   },
   "outputs": [],
   "source": [
    "dicom, label = makeData()"
   ]
  },
  {
   "cell_type": "code",
   "execution_count": 4,
   "metadata": {
    "colab": {},
    "colab_type": "code",
    "id": "yOeS4TuIgogO"
   },
   "outputs": [],
   "source": [
    "class Arguments():\n",
    "    def __init__(self):\n",
    "        self.batch_size = 4\n",
    "        self.test_batch_size = 4\n",
    "        self.epochs = 5\n",
    "        self.lr = 0.01\n",
    "        self.momentum = 0.5\n",
    "        self.log_interval = 10\n",
    "\n",
    "args = Arguments()"
   ]
  },
  {
   "cell_type": "code",
   "execution_count": 5,
   "metadata": {
    "colab": {},
    "colab_type": "code",
    "id": "td7w-9SHFgaK"
   },
   "outputs": [],
   "source": [
    "x_train, x_test, y_train, y_test = train_test_split(dicom,label,test_size=0.3)"
   ]
  },
  {
   "cell_type": "code",
   "execution_count": 6,
   "metadata": {
    "colab": {},
    "colab_type": "code",
    "id": "jNDNknm_9hW1"
   },
   "outputs": [],
   "source": [
    "test_df = pd.DataFrame()\n",
    "test_df['features']=x_test\n",
    "test_df['labels']=y_test"
   ]
  },
  {
   "cell_type": "code",
   "execution_count": 7,
   "metadata": {
    "colab": {},
    "colab_type": "code",
    "id": "r5E6HzYS5ycR"
   },
   "outputs": [],
   "source": [
    "x_train= np.array(x_train)\n",
    "y_train= np.array(y_train)\n",
    "x_test= np.array(x_test)\n",
    "y_test= np.array(y_test)"
   ]
  },
  {
   "cell_type": "code",
   "execution_count": 16,
   "metadata": {
    "colab": {},
    "colab_type": "code",
    "id": "x8KCNM1rpsJb"
   },
   "outputs": [],
   "source": [
    "class data_maker(Dataset):\n",
    "  def __init__(self, images, labels):\n",
    "        self.data = images \n",
    "        self.targets = labels \n",
    "\n",
    "        self.to_torchtensor()\n",
    "        \n",
    "  def __len__(self):\n",
    "      return len(self.data)\n",
    "\n",
    "  def to_torchtensor(self):      \n",
    "      self.data=torch.from_numpy(self.data)\n",
    "      self.labels=torch.from_numpy(self.targets)\n",
    "  \n",
    "  def __getitem__(self, idx):\n",
    "      sample=self.data[idx]\n",
    "      target=self.targets[idx]\n",
    "      return sample,target"
   ]
  },
  {
   "cell_type": "code",
   "execution_count": 17,
   "metadata": {
    "colab": {
     "base_uri": "https://localhost:8080/",
     "height": 35
    },
    "colab_type": "code",
    "id": "_HjuI6IJnOo_",
    "outputId": "b60e16b5-cff5-4858-f768-bedd6327a42e"
   },
   "outputs": [
    {
     "name": "stderr",
     "output_type": "stream",
     "text": [
      "WARNING:root:Torch was already hooked... skipping hooking process\n"
     ]
    }
   ],
   "source": [
    "hook = sy.TorchHook(torch)\n",
    "hospital = sy.VirtualWorker(hook, id=\"hospital\")  \n",
    "clinic = sy.VirtualWorker(hook, id=\"clinic\")  "
   ]
  },
  {
   "cell_type": "code",
   "execution_count": 18,
   "metadata": {
    "colab": {},
    "colab_type": "code",
    "id": "TGOtNPrLcCXO"
   },
   "outputs": [],
   "source": [
    "federated_train_data = data_maker(x_train,y_train).federate((hospital,clinic))"
   ]
  },
  {
   "cell_type": "code",
   "execution_count": 19,
   "metadata": {
    "colab": {},
    "colab_type": "code",
    "id": "iVmlJAfUcCUX"
   },
   "outputs": [],
   "source": [
    "federated_train_loader = sy.FederatedDataLoader(federated_train_data,batch_size=args.batch_size)\n",
    "test_data = data_maker(x_test,y_test)\n",
    "test_loader = torch.utils.data.DataLoader(test_data, batch_size=args.test_batch_size)"
   ]
  },
  {
   "cell_type": "code",
   "execution_count": 20,
   "metadata": {
    "colab": {},
    "colab_type": "code",
    "id": "KpiILdmui8ar"
   },
   "outputs": [],
   "source": [
    "class Net(nn.Module):\n",
    "    def __init__(self):\n",
    "        super().__init__()\n",
    "        self.conv1 = nn.Conv2d(3,32, kernel_size=8, stride = 2)  \n",
    "        self.pool1 = nn.MaxPool2d(kernel_size=4,stride=2,padding=0)  \n",
    "        self.conv2 = nn.Conv2d(32, 64, 8)\n",
    "        self.pool2 = nn.MaxPool2d(4,2,padding=0)\n",
    "        self.fc1 = nn.Linear(256, 64*64)\n",
    "        self.fc2 = nn.Linear(64*64, 64)\n",
    "        self.fc3 = nn.Linear(64, 2)\n",
    "\n",
    "    def forward(self, x):\n",
    "        \n",
    "        x = F.relu(self.conv1(x))\n",
    "        x = self.pool1(x)\n",
    "        x = F.relu(self.conv2(x))\n",
    "        x = self.pool2(x)\n",
    "        x = x.view(-1,256)\n",
    "        x = F.relu(self.fc1(x))\n",
    "        x = F.relu(self.fc2(x))\n",
    "        x = self.fc3(x)\n",
    "\n",
    "        return F.log_softmax(x,dim=1)"
   ]
  },
  {
   "cell_type": "code",
   "execution_count": 21,
   "metadata": {
    "colab": {},
    "colab_type": "code",
    "id": "Re4prk9MpiCz"
   },
   "outputs": [],
   "source": [
    "local_loss_clinic=[]\n",
    "local_loss_hospital=[] "
   ]
  },
  {
   "cell_type": "code",
   "execution_count": 22,
   "metadata": {
    "colab": {},
    "colab_type": "code",
    "id": "UtGcY3T-nl0q"
   },
   "outputs": [],
   "source": [
    "def train(args, model,train_loader, optimizer, epoch):\n",
    "    model.train()\n",
    "    loss = nn.CrossEntropyLoss()\n",
    "    for batch_idx, (data, target) in enumerate(federated_train_loader):\n",
    "        model.send(data.location) \n",
    "        optimizer.zero_grad()\n",
    "        output = model(data)\n",
    "        out = loss(output, target)\n",
    "        out.backward()\n",
    "        optimizer.step()\n",
    "        model.get() \n",
    "        if batch_idx % args.log_interval == 0:\n",
    "            final_loss = out.get() \n",
    "            print('For Training Epoch: ' + str(epoch) + ' Loss is :' + str(final_loss) + 'at ' + str(data.location))\n",
    "            if data.id == 'hospital':\n",
    "              local_loss_hospital.append(final_loss)\n",
    "            else:\n",
    "              local_loss_clinic.append(final_loss)\n"
   ]
  },
  {
   "cell_type": "code",
   "execution_count": 24,
   "metadata": {
    "colab": {
     "base_uri": "https://localhost:8080/",
     "height": 1000
    },
    "colab_type": "code",
    "id": "K8c137J-cCLk",
    "outputId": "12eaf517-645d-4de0-fd88-207b2d7aa829"
   },
   "outputs": [
    {
     "name": "stdout",
     "output_type": "stream",
     "text": [
      "For Training Epoch: 1 Loss is :tensor(0.6528, dtype=torch.float64, requires_grad=True)at <VirtualWorker id:hospital #objects:14>\n",
      "For Training Epoch: 1 Loss is :tensor(0.6107, dtype=torch.float64, requires_grad=True)at <VirtualWorker id:hospital #objects:14>\n",
      "For Training Epoch: 1 Loss is :tensor(0.9013, dtype=torch.float64, requires_grad=True)at <VirtualWorker id:hospital #objects:14>\n",
      "For Training Epoch: 1 Loss is :tensor(0.2280, dtype=torch.float64, requires_grad=True)at <VirtualWorker id:hospital #objects:14>\n",
      "For Training Epoch: 1 Loss is :tensor(0.5768, dtype=torch.float64, requires_grad=True)at <VirtualWorker id:clinic #objects:7>\n",
      "For Training Epoch: 1 Loss is :tensor(0.2065, dtype=torch.float64, requires_grad=True)at <VirtualWorker id:clinic #objects:7>\n",
      "For Training Epoch: 1 Loss is :tensor(0.5643, dtype=torch.float64, requires_grad=True)at <VirtualWorker id:clinic #objects:7>\n",
      "For Training Epoch: 1 Loss is :tensor(0.5758, dtype=torch.float64, requires_grad=True)at <VirtualWorker id:clinic #objects:7>\n",
      "For Training Epoch: 2 Loss is :tensor(0.5424, dtype=torch.float64, requires_grad=True)at <VirtualWorker id:hospital #objects:14>\n",
      "For Training Epoch: 2 Loss is :tensor(0.5675, dtype=torch.float64, requires_grad=True)at <VirtualWorker id:hospital #objects:14>\n",
      "For Training Epoch: 2 Loss is :tensor(1.1047, dtype=torch.float64, requires_grad=True)at <VirtualWorker id:hospital #objects:14>\n",
      "For Training Epoch: 2 Loss is :tensor(0.2006, dtype=torch.float64, requires_grad=True)at <VirtualWorker id:hospital #objects:14>\n",
      "For Training Epoch: 2 Loss is :tensor(0.5794, dtype=torch.float64, requires_grad=True)at <VirtualWorker id:clinic #objects:7>\n",
      "For Training Epoch: 2 Loss is :tensor(0.2011, dtype=torch.float64, requires_grad=True)at <VirtualWorker id:clinic #objects:7>\n",
      "For Training Epoch: 2 Loss is :tensor(0.5614, dtype=torch.float64, requires_grad=True)at <VirtualWorker id:clinic #objects:7>\n",
      "For Training Epoch: 2 Loss is :tensor(0.5677, dtype=torch.float64, requires_grad=True)at <VirtualWorker id:clinic #objects:7>\n",
      "For Training Epoch: 3 Loss is :tensor(0.5445, dtype=torch.float64, requires_grad=True)at <VirtualWorker id:hospital #objects:14>\n",
      "For Training Epoch: 3 Loss is :tensor(0.5662, dtype=torch.float64, requires_grad=True)at <VirtualWorker id:hospital #objects:14>\n",
      "For Training Epoch: 3 Loss is :tensor(1.1020, dtype=torch.float64, requires_grad=True)at <VirtualWorker id:hospital #objects:14>\n",
      "For Training Epoch: 3 Loss is :tensor(0.1972, dtype=torch.float64, requires_grad=True)at <VirtualWorker id:hospital #objects:14>\n",
      "For Training Epoch: 3 Loss is :tensor(0.5813, dtype=torch.float64, requires_grad=True)at <VirtualWorker id:clinic #objects:7>\n",
      "For Training Epoch: 3 Loss is :tensor(0.1946, dtype=torch.float64, requires_grad=True)at <VirtualWorker id:clinic #objects:7>\n",
      "For Training Epoch: 3 Loss is :tensor(0.5581, dtype=torch.float64, requires_grad=True)at <VirtualWorker id:clinic #objects:7>\n",
      "For Training Epoch: 3 Loss is :tensor(0.5597, dtype=torch.float64, requires_grad=True)at <VirtualWorker id:clinic #objects:7>\n",
      "For Training Epoch: 4 Loss is :tensor(0.5471, dtype=torch.float64, requires_grad=True)at <VirtualWorker id:hospital #objects:14>\n",
      "For Training Epoch: 4 Loss is :tensor(0.5634, dtype=torch.float64, requires_grad=True)at <VirtualWorker id:hospital #objects:14>\n",
      "For Training Epoch: 4 Loss is :tensor(1.0993, dtype=torch.float64, requires_grad=True)at <VirtualWorker id:hospital #objects:14>\n",
      "For Training Epoch: 4 Loss is :tensor(0.1907, dtype=torch.float64, requires_grad=True)at <VirtualWorker id:hospital #objects:14>\n",
      "For Training Epoch: 4 Loss is :tensor(0.5823, dtype=torch.float64, requires_grad=True)at <VirtualWorker id:clinic #objects:7>\n",
      "For Training Epoch: 4 Loss is :tensor(0.1891, dtype=torch.float64, requires_grad=True)at <VirtualWorker id:clinic #objects:7>\n",
      "For Training Epoch: 4 Loss is :tensor(0.5543, dtype=torch.float64, requires_grad=True)at <VirtualWorker id:clinic #objects:7>\n",
      "For Training Epoch: 4 Loss is :tensor(0.5503, dtype=torch.float64, requires_grad=True)at <VirtualWorker id:clinic #objects:7>\n",
      "For Training Epoch: 5 Loss is :tensor(0.5504, dtype=torch.float64, requires_grad=True)at <VirtualWorker id:hospital #objects:14>\n",
      "For Training Epoch: 5 Loss is :tensor(0.5575, dtype=torch.float64, requires_grad=True)at <VirtualWorker id:hospital #objects:14>\n",
      "For Training Epoch: 5 Loss is :tensor(1.0960, dtype=torch.float64, requires_grad=True)at <VirtualWorker id:hospital #objects:14>\n",
      "For Training Epoch: 5 Loss is :tensor(0.1792, dtype=torch.float64, requires_grad=True)at <VirtualWorker id:hospital #objects:14>\n",
      "For Training Epoch: 5 Loss is :tensor(0.5831, dtype=torch.float64, requires_grad=True)at <VirtualWorker id:clinic #objects:7>\n",
      "For Training Epoch: 5 Loss is :tensor(0.1838, dtype=torch.float64, requires_grad=True)at <VirtualWorker id:clinic #objects:7>\n",
      "For Training Epoch: 5 Loss is :tensor(0.5482, dtype=torch.float64, requires_grad=True)at <VirtualWorker id:clinic #objects:7>\n",
      "For Training Epoch: 5 Loss is :tensor(0.5365, dtype=torch.float64, requires_grad=True)at <VirtualWorker id:clinic #objects:7>\n",
      "For Training Epoch: 6 Loss is :tensor(0.5548, dtype=torch.float64, requires_grad=True)at <VirtualWorker id:hospital #objects:14>\n",
      "For Training Epoch: 6 Loss is :tensor(0.5481, dtype=torch.float64, requires_grad=True)at <VirtualWorker id:hospital #objects:14>\n",
      "For Training Epoch: 6 Loss is :tensor(1.0879, dtype=torch.float64, requires_grad=True)at <VirtualWorker id:hospital #objects:14>\n",
      "For Training Epoch: 6 Loss is :tensor(0.1556, dtype=torch.float64, requires_grad=True)at <VirtualWorker id:hospital #objects:14>\n",
      "For Training Epoch: 6 Loss is :tensor(0.5819, dtype=torch.float64, requires_grad=True)at <VirtualWorker id:clinic #objects:7>\n",
      "For Training Epoch: 6 Loss is :tensor(0.1790, dtype=torch.float64, requires_grad=True)at <VirtualWorker id:clinic #objects:7>\n",
      "For Training Epoch: 6 Loss is :tensor(0.5373, dtype=torch.float64, requires_grad=True)at <VirtualWorker id:clinic #objects:7>\n",
      "For Training Epoch: 6 Loss is :tensor(0.5120, dtype=torch.float64, requires_grad=True)at <VirtualWorker id:clinic #objects:7>\n",
      "For Training Epoch: 7 Loss is :tensor(0.5625, dtype=torch.float64, requires_grad=True)at <VirtualWorker id:hospital #objects:14>\n",
      "For Training Epoch: 7 Loss is :tensor(0.5306, dtype=torch.float64, requires_grad=True)at <VirtualWorker id:hospital #objects:14>\n",
      "For Training Epoch: 7 Loss is :tensor(1.0653, dtype=torch.float64, requires_grad=True)at <VirtualWorker id:hospital #objects:14>\n",
      "For Training Epoch: 7 Loss is :tensor(0.1109, dtype=torch.float64, requires_grad=True)at <VirtualWorker id:hospital #objects:14>\n",
      "For Training Epoch: 7 Loss is :tensor(0.5735, dtype=torch.float64, requires_grad=True)at <VirtualWorker id:clinic #objects:7>\n",
      "For Training Epoch: 7 Loss is :tensor(0.1767, dtype=torch.float64, requires_grad=True)at <VirtualWorker id:clinic #objects:7>\n",
      "For Training Epoch: 7 Loss is :tensor(0.5165, dtype=torch.float64, requires_grad=True)at <VirtualWorker id:clinic #objects:7>\n",
      "For Training Epoch: 7 Loss is :tensor(0.4722, dtype=torch.float64, requires_grad=True)at <VirtualWorker id:clinic #objects:7>\n",
      "For Training Epoch: 8 Loss is :tensor(0.5802, dtype=torch.float64, requires_grad=True)at <VirtualWorker id:hospital #objects:14>\n",
      "For Training Epoch: 8 Loss is :tensor(0.5054, dtype=torch.float64, requires_grad=True)at <VirtualWorker id:hospital #objects:14>\n",
      "For Training Epoch: 8 Loss is :tensor(1.0077, dtype=torch.float64, requires_grad=True)at <VirtualWorker id:hospital #objects:14>\n",
      "For Training Epoch: 8 Loss is :tensor(0.0631, dtype=torch.float64, requires_grad=True)at <VirtualWorker id:hospital #objects:14>\n",
      "For Training Epoch: 8 Loss is :tensor(0.5513, dtype=torch.float64, requires_grad=True)at <VirtualWorker id:clinic #objects:7>\n",
      "For Training Epoch: 8 Loss is :tensor(0.1849, dtype=torch.float64, requires_grad=True)at <VirtualWorker id:clinic #objects:7>\n",
      "For Training Epoch: 8 Loss is :tensor(0.4913, dtype=torch.float64, requires_grad=True)at <VirtualWorker id:clinic #objects:7>\n",
      "For Training Epoch: 8 Loss is :tensor(0.4216, dtype=torch.float64, requires_grad=True)at <VirtualWorker id:clinic #objects:7>\n",
      "For Training Epoch: 9 Loss is :tensor(0.6003, dtype=torch.float64, requires_grad=True)at <VirtualWorker id:hospital #objects:14>\n",
      "For Training Epoch: 9 Loss is :tensor(0.4947, dtype=torch.float64, requires_grad=True)at <VirtualWorker id:hospital #objects:14>\n",
      "For Training Epoch: 9 Loss is :tensor(0.9183, dtype=torch.float64, requires_grad=True)at <VirtualWorker id:hospital #objects:14>\n",
      "For Training Epoch: 9 Loss is :tensor(0.0357, dtype=torch.float64, requires_grad=True)at <VirtualWorker id:hospital #objects:14>\n",
      "For Training Epoch: 9 Loss is :tensor(0.5270, dtype=torch.float64, requires_grad=True)at <VirtualWorker id:clinic #objects:7>\n",
      "For Training Epoch: 9 Loss is :tensor(0.1903, dtype=torch.float64, requires_grad=True)at <VirtualWorker id:clinic #objects:7>\n",
      "For Training Epoch: 9 Loss is :tensor(0.4696, dtype=torch.float64, requires_grad=True)at <VirtualWorker id:clinic #objects:7>\n",
      "For Training Epoch: 9 Loss is :tensor(0.3877, dtype=torch.float64, requires_grad=True)at <VirtualWorker id:clinic #objects:7>\n"
     ]
    }
   ],
   "source": [
    "model = Net().double()\n",
    "optimizer = optim.SGD(model.parameters(), lr=args.lr) \n",
    "for epoch in range(1, 10):\n",
    "  train(args, model, federated_train_loader, optimizer, epoch)"
   ]
  },
  {
   "cell_type": "code",
   "execution_count": null,
   "metadata": {
    "colab": {},
    "colab_type": "code",
    "id": "x9kPDniWrX5n"
   },
   "outputs": [],
   "source": []
  }
 ],
 "metadata": {
  "accelerator": "GPU",
  "colab": {
   "collapsed_sections": [],
   "include_colab_link": true,
   "name": "CrossPriv_Remote_Execution.ipynb",
   "provenance": []
  },
  "kernelspec": {
   "display_name": "Python 3",
   "language": "python",
   "name": "python3"
  },
  "language_info": {
   "codemirror_mode": {
    "name": "ipython",
    "version": 3
   },
   "file_extension": ".py",
   "mimetype": "text/x-python",
   "name": "python",
   "nbconvert_exporter": "python",
   "pygments_lexer": "ipython3",
   "version": "3.6.9"
  }
 },
 "nbformat": 4,
 "nbformat_minor": 1
}
